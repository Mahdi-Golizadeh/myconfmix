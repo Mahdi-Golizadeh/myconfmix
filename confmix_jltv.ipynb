{
  "cells": [
    {
      "cell_type": "markdown",
      "source": [
        "cloning model and installing necessary libraries"
      ],
      "metadata": {
        "id": "pCUurGQGki-F"
      }
    },
    {
      "cell_type": "code",
      "execution_count": 1,
      "metadata": {
        "colab": {
          "base_uri": "https://localhost:8080/"
        },
        "id": "cmfuYsYzX-YH",
        "outputId": "238eeb1f-3eb0-4442-be53-a7697a5f92ec"
      },
      "outputs": [
        {
          "output_type": "stream",
          "name": "stdout",
          "text": [
            "Cloning into 'myconfmix'...\n",
            "remote: Enumerating objects: 159, done.\u001b[K\n",
            "remote: Counting objects: 100% (159/159), done.\u001b[K\n",
            "remote: Compressing objects: 100% (115/115), done.\u001b[K\n",
            "remote: Total 159 (delta 55), reused 146 (delta 42), pack-reused 0\u001b[K\n",
            "Receiving objects: 100% (159/159), 2.45 MiB | 7.20 MiB/s, done.\n",
            "Resolving deltas: 100% (55/55), done.\n"
          ]
        }
      ],
      "source": [
        "!git clone https://github.com/Mahdi-Golizadeh/myconfmix.git\n",
        "!mv ./myconfmix//* \".\"\n",
        "!rm -rf myconfmix/"
      ]
    },
    {
      "cell_type": "code",
      "execution_count": 2,
      "metadata": {
        "colab": {
          "base_uri": "https://localhost:8080/",
          "height": 1000
        },
        "id": "jr0Cnv24ZRD4",
        "outputId": "1ca85358-e068-411e-ccab-f722c5019686"
      },
      "outputs": [
        {
          "output_type": "stream",
          "name": "stdout",
          "text": [
            "Requirement already satisfied: matplotlib>=3.2.2 in /usr/local/lib/python3.10/dist-packages (from -r requirements.txt (line 4)) (3.7.1)\n",
            "Requirement already satisfied: numpy>=1.18.5 in /usr/local/lib/python3.10/dist-packages (from -r requirements.txt (line 5)) (1.26.4)\n",
            "Requirement already satisfied: opencv-python>=4.1.1 in /usr/local/lib/python3.10/dist-packages (from -r requirements.txt (line 6)) (4.10.0.84)\n",
            "Collecting Pillow==7.1.2 (from -r requirements.txt (line 7))\n",
            "  Downloading Pillow-7.1.2.tar.gz (38.9 MB)\n",
            "\u001b[2K     \u001b[90m━━━━━━━━━━━━━━━━━━━━━━━━━━━━━━━━━━━━━━━━\u001b[0m \u001b[32m38.9/38.9 MB\u001b[0m \u001b[31m14.2 MB/s\u001b[0m eta \u001b[36m0:00:00\u001b[0m\n",
            "\u001b[?25h  Preparing metadata (setup.py) ... \u001b[?25l\u001b[?25hdone\n",
            "Requirement already satisfied: PyYAML>=5.3.1 in /usr/local/lib/python3.10/dist-packages (from -r requirements.txt (line 8)) (6.0.1)\n",
            "Requirement already satisfied: requests>=2.23.0 in /usr/local/lib/python3.10/dist-packages (from -r requirements.txt (line 9)) (2.32.3)\n",
            "Requirement already satisfied: scipy>=1.4.1 in /usr/local/lib/python3.10/dist-packages (from -r requirements.txt (line 10)) (1.13.1)\n",
            "Requirement already satisfied: torch>=1.7.0 in /usr/local/lib/python3.10/dist-packages (from -r requirements.txt (line 11)) (2.3.1+cu121)\n",
            "Requirement already satisfied: torchvision>=0.8.1 in /usr/local/lib/python3.10/dist-packages (from -r requirements.txt (line 12)) (0.18.1+cu121)\n",
            "Requirement already satisfied: tqdm>=4.41.0 in /usr/local/lib/python3.10/dist-packages (from -r requirements.txt (line 13)) (4.66.5)\n",
            "Requirement already satisfied: tensorboard>=2.4.1 in /usr/local/lib/python3.10/dist-packages (from -r requirements.txt (line 16)) (2.17.0)\n",
            "Requirement already satisfied: pandas>=1.1.4 in /usr/local/lib/python3.10/dist-packages (from -r requirements.txt (line 20)) (2.1.4)\n",
            "Requirement already satisfied: seaborn>=0.11.0 in /usr/local/lib/python3.10/dist-packages (from -r requirements.txt (line 21)) (0.13.1)\n",
            "Collecting thop (from -r requirements.txt (line 24))\n",
            "  Downloading thop-0.1.1.post2209072238-py3-none-any.whl.metadata (2.7 kB)\n",
            "Requirement already satisfied: contourpy>=1.0.1 in /usr/local/lib/python3.10/dist-packages (from matplotlib>=3.2.2->-r requirements.txt (line 4)) (1.2.1)\n",
            "Requirement already satisfied: cycler>=0.10 in /usr/local/lib/python3.10/dist-packages (from matplotlib>=3.2.2->-r requirements.txt (line 4)) (0.12.1)\n",
            "Requirement already satisfied: fonttools>=4.22.0 in /usr/local/lib/python3.10/dist-packages (from matplotlib>=3.2.2->-r requirements.txt (line 4)) (4.53.1)\n",
            "Requirement already satisfied: kiwisolver>=1.0.1 in /usr/local/lib/python3.10/dist-packages (from matplotlib>=3.2.2->-r requirements.txt (line 4)) (1.4.5)\n",
            "Requirement already satisfied: packaging>=20.0 in /usr/local/lib/python3.10/dist-packages (from matplotlib>=3.2.2->-r requirements.txt (line 4)) (24.1)\n",
            "Requirement already satisfied: pyparsing>=2.3.1 in /usr/local/lib/python3.10/dist-packages (from matplotlib>=3.2.2->-r requirements.txt (line 4)) (3.1.2)\n",
            "Requirement already satisfied: python-dateutil>=2.7 in /usr/local/lib/python3.10/dist-packages (from matplotlib>=3.2.2->-r requirements.txt (line 4)) (2.8.2)\n",
            "Requirement already satisfied: charset-normalizer<4,>=2 in /usr/local/lib/python3.10/dist-packages (from requests>=2.23.0->-r requirements.txt (line 9)) (3.3.2)\n",
            "Requirement already satisfied: idna<4,>=2.5 in /usr/local/lib/python3.10/dist-packages (from requests>=2.23.0->-r requirements.txt (line 9)) (3.7)\n",
            "Requirement already satisfied: urllib3<3,>=1.21.1 in /usr/local/lib/python3.10/dist-packages (from requests>=2.23.0->-r requirements.txt (line 9)) (2.0.7)\n",
            "Requirement already satisfied: certifi>=2017.4.17 in /usr/local/lib/python3.10/dist-packages (from requests>=2.23.0->-r requirements.txt (line 9)) (2024.7.4)\n",
            "Requirement already satisfied: filelock in /usr/local/lib/python3.10/dist-packages (from torch>=1.7.0->-r requirements.txt (line 11)) (3.15.4)\n",
            "Requirement already satisfied: typing-extensions>=4.8.0 in /usr/local/lib/python3.10/dist-packages (from torch>=1.7.0->-r requirements.txt (line 11)) (4.12.2)\n",
            "Requirement already satisfied: sympy in /usr/local/lib/python3.10/dist-packages (from torch>=1.7.0->-r requirements.txt (line 11)) (1.13.1)\n",
            "Requirement already satisfied: networkx in /usr/local/lib/python3.10/dist-packages (from torch>=1.7.0->-r requirements.txt (line 11)) (3.3)\n",
            "Requirement already satisfied: jinja2 in /usr/local/lib/python3.10/dist-packages (from torch>=1.7.0->-r requirements.txt (line 11)) (3.1.4)\n",
            "Requirement already satisfied: fsspec in /usr/local/lib/python3.10/dist-packages (from torch>=1.7.0->-r requirements.txt (line 11)) (2024.6.1)\n",
            "Collecting nvidia-cuda-nvrtc-cu12==12.1.105 (from torch>=1.7.0->-r requirements.txt (line 11))\n",
            "  Using cached nvidia_cuda_nvrtc_cu12-12.1.105-py3-none-manylinux1_x86_64.whl.metadata (1.5 kB)\n",
            "Collecting nvidia-cuda-runtime-cu12==12.1.105 (from torch>=1.7.0->-r requirements.txt (line 11))\n",
            "  Using cached nvidia_cuda_runtime_cu12-12.1.105-py3-none-manylinux1_x86_64.whl.metadata (1.5 kB)\n",
            "Collecting nvidia-cuda-cupti-cu12==12.1.105 (from torch>=1.7.0->-r requirements.txt (line 11))\n",
            "  Using cached nvidia_cuda_cupti_cu12-12.1.105-py3-none-manylinux1_x86_64.whl.metadata (1.6 kB)\n",
            "Collecting nvidia-cudnn-cu12==8.9.2.26 (from torch>=1.7.0->-r requirements.txt (line 11))\n",
            "  Using cached nvidia_cudnn_cu12-8.9.2.26-py3-none-manylinux1_x86_64.whl.metadata (1.6 kB)\n",
            "Collecting nvidia-cublas-cu12==12.1.3.1 (from torch>=1.7.0->-r requirements.txt (line 11))\n",
            "  Using cached nvidia_cublas_cu12-12.1.3.1-py3-none-manylinux1_x86_64.whl.metadata (1.5 kB)\n",
            "Collecting nvidia-cufft-cu12==11.0.2.54 (from torch>=1.7.0->-r requirements.txt (line 11))\n",
            "  Using cached nvidia_cufft_cu12-11.0.2.54-py3-none-manylinux1_x86_64.whl.metadata (1.5 kB)\n",
            "Collecting nvidia-curand-cu12==10.3.2.106 (from torch>=1.7.0->-r requirements.txt (line 11))\n",
            "  Using cached nvidia_curand_cu12-10.3.2.106-py3-none-manylinux1_x86_64.whl.metadata (1.5 kB)\n",
            "Collecting nvidia-cusolver-cu12==11.4.5.107 (from torch>=1.7.0->-r requirements.txt (line 11))\n",
            "  Using cached nvidia_cusolver_cu12-11.4.5.107-py3-none-manylinux1_x86_64.whl.metadata (1.6 kB)\n",
            "Collecting nvidia-cusparse-cu12==12.1.0.106 (from torch>=1.7.0->-r requirements.txt (line 11))\n",
            "  Using cached nvidia_cusparse_cu12-12.1.0.106-py3-none-manylinux1_x86_64.whl.metadata (1.6 kB)\n",
            "Collecting nvidia-nccl-cu12==2.20.5 (from torch>=1.7.0->-r requirements.txt (line 11))\n",
            "  Using cached nvidia_nccl_cu12-2.20.5-py3-none-manylinux2014_x86_64.whl.metadata (1.8 kB)\n",
            "Collecting nvidia-nvtx-cu12==12.1.105 (from torch>=1.7.0->-r requirements.txt (line 11))\n",
            "  Using cached nvidia_nvtx_cu12-12.1.105-py3-none-manylinux1_x86_64.whl.metadata (1.7 kB)\n",
            "Requirement already satisfied: triton==2.3.1 in /usr/local/lib/python3.10/dist-packages (from torch>=1.7.0->-r requirements.txt (line 11)) (2.3.1)\n",
            "Collecting nvidia-nvjitlink-cu12 (from nvidia-cusolver-cu12==11.4.5.107->torch>=1.7.0->-r requirements.txt (line 11))\n",
            "  Using cached nvidia_nvjitlink_cu12-12.6.20-py3-none-manylinux2014_x86_64.whl.metadata (1.5 kB)\n",
            "Requirement already satisfied: absl-py>=0.4 in /usr/local/lib/python3.10/dist-packages (from tensorboard>=2.4.1->-r requirements.txt (line 16)) (1.4.0)\n",
            "Requirement already satisfied: grpcio>=1.48.2 in /usr/local/lib/python3.10/dist-packages (from tensorboard>=2.4.1->-r requirements.txt (line 16)) (1.64.1)\n",
            "Requirement already satisfied: markdown>=2.6.8 in /usr/local/lib/python3.10/dist-packages (from tensorboard>=2.4.1->-r requirements.txt (line 16)) (3.6)\n",
            "Requirement already satisfied: protobuf!=4.24.0,<5.0.0,>=3.19.6 in /usr/local/lib/python3.10/dist-packages (from tensorboard>=2.4.1->-r requirements.txt (line 16)) (3.20.3)\n",
            "Requirement already satisfied: setuptools>=41.0.0 in /usr/local/lib/python3.10/dist-packages (from tensorboard>=2.4.1->-r requirements.txt (line 16)) (71.0.4)\n",
            "Requirement already satisfied: six>1.9 in /usr/local/lib/python3.10/dist-packages (from tensorboard>=2.4.1->-r requirements.txt (line 16)) (1.16.0)\n",
            "Requirement already satisfied: tensorboard-data-server<0.8.0,>=0.7.0 in /usr/local/lib/python3.10/dist-packages (from tensorboard>=2.4.1->-r requirements.txt (line 16)) (0.7.2)\n",
            "Requirement already satisfied: werkzeug>=1.0.1 in /usr/local/lib/python3.10/dist-packages (from tensorboard>=2.4.1->-r requirements.txt (line 16)) (3.0.3)\n",
            "Requirement already satisfied: pytz>=2020.1 in /usr/local/lib/python3.10/dist-packages (from pandas>=1.1.4->-r requirements.txt (line 20)) (2024.1)\n",
            "Requirement already satisfied: tzdata>=2022.1 in /usr/local/lib/python3.10/dist-packages (from pandas>=1.1.4->-r requirements.txt (line 20)) (2024.1)\n",
            "Requirement already satisfied: MarkupSafe>=2.1.1 in /usr/local/lib/python3.10/dist-packages (from werkzeug>=1.0.1->tensorboard>=2.4.1->-r requirements.txt (line 16)) (2.1.5)\n",
            "Requirement already satisfied: mpmath<1.4,>=1.1.0 in /usr/local/lib/python3.10/dist-packages (from sympy->torch>=1.7.0->-r requirements.txt (line 11)) (1.3.0)\n",
            "Using cached nvidia_cublas_cu12-12.1.3.1-py3-none-manylinux1_x86_64.whl (410.6 MB)\n",
            "Using cached nvidia_cuda_cupti_cu12-12.1.105-py3-none-manylinux1_x86_64.whl (14.1 MB)\n",
            "Using cached nvidia_cuda_nvrtc_cu12-12.1.105-py3-none-manylinux1_x86_64.whl (23.7 MB)\n",
            "Using cached nvidia_cuda_runtime_cu12-12.1.105-py3-none-manylinux1_x86_64.whl (823 kB)\n",
            "Using cached nvidia_cudnn_cu12-8.9.2.26-py3-none-manylinux1_x86_64.whl (731.7 MB)\n",
            "Using cached nvidia_cufft_cu12-11.0.2.54-py3-none-manylinux1_x86_64.whl (121.6 MB)\n",
            "Using cached nvidia_curand_cu12-10.3.2.106-py3-none-manylinux1_x86_64.whl (56.5 MB)\n",
            "Using cached nvidia_cusolver_cu12-11.4.5.107-py3-none-manylinux1_x86_64.whl (124.2 MB)\n",
            "Using cached nvidia_cusparse_cu12-12.1.0.106-py3-none-manylinux1_x86_64.whl (196.0 MB)\n",
            "Using cached nvidia_nccl_cu12-2.20.5-py3-none-manylinux2014_x86_64.whl (176.2 MB)\n",
            "Using cached nvidia_nvtx_cu12-12.1.105-py3-none-manylinux1_x86_64.whl (99 kB)\n",
            "Downloading thop-0.1.1.post2209072238-py3-none-any.whl (15 kB)\n",
            "Using cached nvidia_nvjitlink_cu12-12.6.20-py3-none-manylinux2014_x86_64.whl (19.7 MB)\n",
            "Building wheels for collected packages: Pillow\n",
            "  Building wheel for Pillow (setup.py) ... \u001b[?25l\u001b[?25hdone\n",
            "  Created wheel for Pillow: filename=Pillow-7.1.2-cp310-cp310-linux_x86_64.whl size=1134486 sha256=85a4521ac312b90e96f09d1d07508f837cbee9e184813d244a1aa280593f6c1e\n",
            "  Stored in directory: /root/.cache/pip/wheels/b1/33/ce/d1c30cb9fc3ba1b8e60a01d4f49e35a1e65b6911bd3722e3e9\n",
            "Successfully built Pillow\n",
            "Installing collected packages: Pillow, nvidia-nvtx-cu12, nvidia-nvjitlink-cu12, nvidia-nccl-cu12, nvidia-curand-cu12, nvidia-cufft-cu12, nvidia-cuda-runtime-cu12, nvidia-cuda-nvrtc-cu12, nvidia-cuda-cupti-cu12, nvidia-cublas-cu12, nvidia-cusparse-cu12, nvidia-cudnn-cu12, nvidia-cusolver-cu12, thop\n",
            "  Attempting uninstall: Pillow\n",
            "    Found existing installation: Pillow 9.4.0\n",
            "    Uninstalling Pillow-9.4.0:\n",
            "      Successfully uninstalled Pillow-9.4.0\n",
            "\u001b[31mERROR: pip's dependency resolver does not currently take into account all the packages that are installed. This behaviour is the source of the following dependency conflicts.\n",
            "fastai 2.7.16 requires pillow>=9.0.0, but you have pillow 7.1.2 which is incompatible.\n",
            "imageio 2.34.2 requires pillow>=8.3.2, but you have pillow 7.1.2 which is incompatible.\n",
            "scikit-image 0.23.2 requires pillow>=9.1, but you have pillow 7.1.2 which is incompatible.\u001b[0m\u001b[31m\n",
            "\u001b[0mSuccessfully installed Pillow-7.1.2 nvidia-cublas-cu12-12.1.3.1 nvidia-cuda-cupti-cu12-12.1.105 nvidia-cuda-nvrtc-cu12-12.1.105 nvidia-cuda-runtime-cu12-12.1.105 nvidia-cudnn-cu12-8.9.2.26 nvidia-cufft-cu12-11.0.2.54 nvidia-curand-cu12-10.3.2.106 nvidia-cusolver-cu12-11.4.5.107 nvidia-cusparse-cu12-12.1.0.106 nvidia-nccl-cu12-2.20.5 nvidia-nvjitlink-cu12-12.6.20 nvidia-nvtx-cu12-12.1.105 thop-0.1.1.post2209072238\n"
          ]
        },
        {
          "output_type": "display_data",
          "data": {
            "application/vnd.colab-display-data+json": {
              "pip_warning": {
                "packages": [
                  "PIL"
                ]
              },
              "id": "2ab0268eb5f542e6b71c404eaba9277b"
            }
          },
          "metadata": {}
        }
      ],
      "source": [
        "!pip install -r requirements.txt"
      ]
    },
    {
      "cell_type": "markdown",
      "source": [
        "downloading required datasets"
      ],
      "metadata": {
        "id": "QIsP1rjtktD_"
      }
    },
    {
      "cell_type": "markdown",
      "source": [
        "source dataset"
      ],
      "metadata": {
        "id": "8N0h6Q5KZA4z"
      }
    },
    {
      "cell_type": "code",
      "execution_count": 3,
      "metadata": {
        "colab": {
          "base_uri": "https://localhost:8080/"
        },
        "id": "ZhxbTLAXELkM",
        "outputId": "cdd57e0e-7482-4829-e273-5837f0fb636c"
      },
      "outputs": [
        {
          "output_type": "stream",
          "name": "stdout",
          "text": [
            "Downloading...\n",
            "From (original): https://drive.google.com/uc?id=1-1NahoibIsZvuLCXEHcUb-JOgCrqyVTx\n",
            "From (redirected): https://drive.google.com/uc?id=1-1NahoibIsZvuLCXEHcUb-JOgCrqyVTx&confirm=t&uuid=623917b9-2f84-4efd-be39-6d2d8861f3ba\n",
            "To: /content/synthetic_jltv.zip\n",
            "100% 504M/504M [00:15<00:00, 32.9MB/s]\n"
          ]
        }
      ],
      "source": [
        "!gdown 1-1NahoibIsZvuLCXEHcUb-JOgCrqyVTx\n",
        "!unzip -q -u synthetic_jltv"
      ]
    },
    {
      "cell_type": "markdown",
      "source": [
        "target dataset"
      ],
      "metadata": {
        "id": "XFepQUhHwUsy"
      }
    },
    {
      "cell_type": "code",
      "source": [
        "!gdown 1-EoDTCHy3kwr6NDnnSbYo6KlqT-GV1yM\n",
        "!unzip -q -u \"/content/test.zip\" -d test"
      ],
      "metadata": {
        "colab": {
          "base_uri": "https://localhost:8080/"
        },
        "id": "zO91z0PlwURW",
        "outputId": "fea08f51-e298-40cf-b430-07eca2c237d9"
      },
      "execution_count": 4,
      "outputs": [
        {
          "output_type": "stream",
          "name": "stdout",
          "text": [
            "Downloading...\n",
            "From (original): https://drive.google.com/uc?id=1-EoDTCHy3kwr6NDnnSbYo6KlqT-GV1yM\n",
            "From (redirected): https://drive.google.com/uc?id=1-EoDTCHy3kwr6NDnnSbYo6KlqT-GV1yM&confirm=t&uuid=00eb13d6-d36f-4024-89f6-6b3862c78632\n",
            "To: /content/test.zip\n",
            "100% 955M/955M [00:18<00:00, 51.4MB/s]\n"
          ]
        }
      ]
    },
    {
      "cell_type": "markdown",
      "source": [
        "unsupervised dataset"
      ],
      "metadata": {
        "id": "Iukfwysb1_u3"
      }
    },
    {
      "cell_type": "code",
      "source": [
        "!gdown 1-4DhDjLNUWl_bjNVxNRwTCUZeMftiIO_\n",
        "!gdown 1Xk7JV0Vg4AxQ_ysn-rlTJGqekBSWiMnA\n",
        "!unzip -q -u \"/content/train.zip\" -d uda_data\n",
        "!unzip -q -u \"/content/labels.zip\" -d uda_data"
      ],
      "metadata": {
        "colab": {
          "base_uri": "https://localhost:8080/"
        },
        "id": "hIf6kQ1D2WE9",
        "outputId": "1b28c4fb-d684-4f55-cbb7-e3a11cdad9ca"
      },
      "execution_count": 5,
      "outputs": [
        {
          "output_type": "stream",
          "name": "stdout",
          "text": [
            "Downloading...\n",
            "From (original): https://drive.google.com/uc?id=1-4DhDjLNUWl_bjNVxNRwTCUZeMftiIO_\n",
            "From (redirected): https://drive.google.com/uc?id=1-4DhDjLNUWl_bjNVxNRwTCUZeMftiIO_&confirm=t&uuid=0add2297-7550-49e5-8dbb-278db0c7d2ed\n",
            "To: /content/train.zip\n",
            "100% 1.73G/1.73G [00:24<00:00, 71.8MB/s]\n",
            "Downloading...\n",
            "From: https://drive.google.com/uc?id=1Xk7JV0Vg4AxQ_ysn-rlTJGqekBSWiMnA\n",
            "To: /content/labels.zip\n",
            "100% 279k/279k [00:00<00:00, 112MB/s]\n"
          ]
        }
      ]
    },
    {
      "cell_type": "markdown",
      "source": [
        "traning model on source dataset"
      ],
      "metadata": {
        "id": "NU8E7i2mwqXS"
      }
    },
    {
      "cell_type": "code",
      "execution_count": 6,
      "metadata": {
        "id": "bhhKLtvTZaJW"
      },
      "outputs": [],
      "source": [
        "# !python train.py \\\n",
        "# --name supervised_train \\\n",
        "# --batch 64 \\\n",
        "# --img 600 \\\n",
        "# --epochs 50 \\\n",
        "# --data data/synthetic_jltv.yaml \\\n",
        "# --weights yolov5s.pt"
      ]
    },
    {
      "cell_type": "markdown",
      "source": [
        "evaluating model on validation dataset"
      ],
      "metadata": {
        "id": "jADSgDizpSHF"
      }
    },
    {
      "cell_type": "code",
      "source": [
        "!gdown 1nmEkM0zLU7-2Nu41CKPvvZ95G9IAgHtT #supervised train checkpoint"
      ],
      "metadata": {
        "colab": {
          "base_uri": "https://localhost:8080/"
        },
        "id": "eMfIB9P7vnC5",
        "outputId": "3c243496-a0ff-4004-bbd7-6ae231eebe97"
      },
      "execution_count": 7,
      "outputs": [
        {
          "output_type": "stream",
          "name": "stdout",
          "text": [
            "Downloading...\n",
            "From: https://drive.google.com/uc?id=1nmEkM0zLU7-2Nu41CKPvvZ95G9IAgHtT\n",
            "To: /content/supervised_train.pt\n",
            "100% 14.4M/14.4M [00:00<00:00, 32.4MB/s]\n"
          ]
        }
      ]
    },
    {
      "cell_type": "code",
      "source": [
        "!python val.py \\\n",
        " --name jltv_val \\\n",
        " --img 600 \\\n",
        " --task val \\\n",
        " --data data/synthetic_jltv.yaml \\\n",
        " --weights /content/supervised_train.pt \\\n",
        " --iou-thres 0.5"
      ],
      "metadata": {
        "colab": {
          "base_uri": "https://localhost:8080/"
        },
        "id": "qIA_I3XAoewW",
        "outputId": "ae3ca5f9-2c12-47a8-a382-f0026d0fd15c"
      },
      "execution_count": 8,
      "outputs": [
        {
          "output_type": "stream",
          "name": "stdout",
          "text": [
            "\u001b[34m\u001b[1mval: \u001b[0mdata=data/synthetic_jltv.yaml, weights=['/content/supervised_train.pt'], batch_size=32, imgsz=600, conf_thres=0.001, iou_thres=0.5, task=val, device=, workers=8, single_cls=False, augment=False, verbose=False, save_txt=False, save_hybrid=False, save_conf=False, save_json=False, project=runs/val, name=jltv_val, exist_ok=False, half=False, dnn=False\n",
            "YOLOv5 🚀 2024-8-8 Python-3.10.12 torch-2.3.1+cu121 CUDA:0 (Tesla T4, 15102MiB)\n",
            "\n",
            "Fusing layers... \n",
            "Model summary: 213 layers, 7023610 parameters, 0 gradients, 15.8 GFLOPs\n",
            "WARNING: --img-size 600 must be multiple of max stride 32, updating to 608\n",
            "Downloading https://ultralytics.com/assets/Arial.ttf to /root/.config/Ultralytics/Arial.ttf...\n",
            "100% 755k/755k [00:00<00:00, 41.1MB/s]\n",
            "\u001b[34m\u001b[1mval: \u001b[0mScanning '/content/valid/labels' images and labels...130 found, 0 missing, 0 empty, 0 corrupt: 100% 130/130 [00:00<00:00, 314.23it/s]\n",
            "\u001b[34m\u001b[1mval: \u001b[0mNew cache created: /content/valid/labels.cache\n",
            "               Class     Images     Labels          P          R     mAP@.5 mAP@.5:.95:   0% 0/5 [00:00<?, ?it/s]WARNING: NMS time limit 1.060s exceeded\n",
            "               Class     Images     Labels          P          R     mAP@.5 mAP@.5:.95: 100% 5/5 [00:06<00:00,  1.32s/it]\n",
            "                 all        130        137      0.998      0.985      0.995      0.944\n",
            "Speed: 0.2ms pre-process, 8.3ms inference, 10.9ms NMS per image at shape (32, 3, 608, 608)\n",
            "Results saved to \u001b[1mruns/val/jltv_val\u001b[0m\n"
          ]
        }
      ]
    },
    {
      "cell_type": "markdown",
      "source": [
        "evaluating supervised model on target dataset"
      ],
      "metadata": {
        "id": "w2o_3i-Bv-nW"
      }
    },
    {
      "cell_type": "code",
      "source": [
        "!python val.py \\\n",
        " --name jltv_val \\\n",
        " --img 600 \\\n",
        " --task test \\\n",
        " --data data/synthetic_jltv.yaml \\\n",
        " --weights /content/supervised_train.pt \\\n",
        " --iou-thres 0.5"
      ],
      "metadata": {
        "colab": {
          "base_uri": "https://localhost:8080/"
        },
        "id": "BwvAv-4rv9Sh",
        "outputId": "354c9e0e-feec-45fc-8943-5b45b7b2c049"
      },
      "execution_count": 9,
      "outputs": [
        {
          "output_type": "stream",
          "name": "stdout",
          "text": [
            "\u001b[34m\u001b[1mval: \u001b[0mdata=data/synthetic_jltv.yaml, weights=['/content/supervised_train.pt'], batch_size=32, imgsz=600, conf_thres=0.001, iou_thres=0.5, task=test, device=, workers=8, single_cls=False, augment=False, verbose=False, save_txt=False, save_hybrid=False, save_conf=False, save_json=False, project=runs/val, name=jltv_val, exist_ok=False, half=False, dnn=False\n",
            "YOLOv5 🚀 2024-8-8 Python-3.10.12 torch-2.3.1+cu121 CUDA:0 (Tesla T4, 15102MiB)\n",
            "\n",
            "Fusing layers... \n",
            "Model summary: 213 layers, 7023610 parameters, 0 gradients, 15.8 GFLOPs\n",
            "WARNING: --img-size 600 must be multiple of max stride 32, updating to 608\n",
            "\u001b[34m\u001b[1mtest: \u001b[0mScanning '/content/test/labels' images and labels...1000 found, 0 missing, 109 empty, 0 corrupt: 100% 1000/1000 [00:05<00:00, 166.67it/s]\n",
            "\u001b[34m\u001b[1mtest: \u001b[0mNew cache created: /content/test/labels.cache\n",
            "               Class     Images     Labels          P          R     mAP@.5 mAP@.5:.95:   0% 0/32 [00:00<?, ?it/s]WARNING: NMS time limit 1.060s exceeded\n",
            "               Class     Images     Labels          P          R     mAP@.5 mAP@.5:.95: 100% 32/32 [00:28<00:00,  1.11it/s]\n",
            "                 all       1000        665      0.458      0.747      0.567      0.298\n",
            "Speed: 0.1ms pre-process, 3.6ms inference, 2.8ms NMS per image at shape (32, 3, 608, 608)\n",
            "Results saved to \u001b[1mruns/val/jltv_val2\u001b[0m\n"
          ]
        }
      ]
    },
    {
      "cell_type": "markdown",
      "source": [
        "training and evaluating oracle model(trained on test dataset as upper bound)"
      ],
      "metadata": {
        "id": "_SvhgdwHU-cQ"
      }
    },
    {
      "cell_type": "code",
      "source": [
        "# !python train.py \\\n",
        "# --name oracle_train \\\n",
        "# --batch 64 \\\n",
        "# --img 600 \\\n",
        "# --epochs 50 \\\n",
        "# --data data/oracle.yaml \\\n",
        "# --weights yolov5s.pt"
      ],
      "metadata": {
        "id": "jipVp51SPL8w"
      },
      "execution_count": 10,
      "outputs": []
    },
    {
      "cell_type": "code",
      "source": [
        "!gdown 16lwsnaR9lsazFW3pLN7wPN7FYwl-0M4a #oracle model"
      ],
      "metadata": {
        "colab": {
          "base_uri": "https://localhost:8080/"
        },
        "id": "k37z4bGSHXjg",
        "outputId": "b7b8d779-7def-4c55-c574-558666b118fe"
      },
      "execution_count": 11,
      "outputs": [
        {
          "output_type": "stream",
          "name": "stdout",
          "text": [
            "Downloading...\n",
            "From (original): https://drive.google.com/uc?id=16lwsnaR9lsazFW3pLN7wPN7FYwl-0M4a\n",
            "From (redirected): https://drive.google.com/uc?id=16lwsnaR9lsazFW3pLN7wPN7FYwl-0M4a&confirm=t&uuid=7cf7f06b-e3ea-4310-9011-06e9b454d819\n",
            "To: /content/oracle.pt\n",
            "100% 57.0M/57.0M [00:00<00:00, 91.7MB/s]\n"
          ]
        }
      ]
    },
    {
      "cell_type": "code",
      "source": [
        "!python val.py \\\n",
        " --name oracle_val \\\n",
        " --img 600 \\\n",
        " --task test \\\n",
        " --data data/synthetic_jltv.yaml \\\n",
        " --weights /content/oracle.pt \\\n",
        " --iou-thres 0.5"
      ],
      "metadata": {
        "colab": {
          "base_uri": "https://localhost:8080/"
        },
        "id": "mhb8WRd9U93F",
        "outputId": "eebbb903-c4a9-4ecc-db70-326544e168b0"
      },
      "execution_count": 12,
      "outputs": [
        {
          "output_type": "stream",
          "name": "stdout",
          "text": [
            "\u001b[34m\u001b[1mval: \u001b[0mdata=data/synthetic_jltv.yaml, weights=['/content/oracle.pt'], batch_size=32, imgsz=600, conf_thres=0.001, iou_thres=0.5, task=test, device=, workers=8, single_cls=False, augment=False, verbose=False, save_txt=False, save_hybrid=False, save_conf=False, save_json=False, project=runs/val, name=oracle_val, exist_ok=False, half=False, dnn=False\n",
            "YOLOv5 🚀 2024-8-8 Python-3.10.12 torch-2.3.1+cu121 CUDA:0 (Tesla T4, 15102MiB)\n",
            "\n",
            "Fusing layers... \n",
            "Model summary: 213 layers, 7023610 parameters, 0 gradients, 15.8 GFLOPs\n",
            "WARNING: --img-size 600 must be multiple of max stride 32, updating to 608\n",
            "\u001b[34m\u001b[1mtest: \u001b[0mScanning '/content/test/labels.cache' images and labels... 1000 found, 0 missing, 109 empty, 0 corrupt: 100% 1000/1000 [00:00<?, ?it/s]\n",
            "               Class     Images     Labels          P          R     mAP@.5 mAP@.5:.95:   0% 0/32 [00:00<?, ?it/s]WARNING: NMS time limit 1.060s exceeded\n",
            "               Class     Images     Labels          P          R     mAP@.5 mAP@.5:.95: 100% 32/32 [00:30<00:00,  1.06it/s]\n",
            "                 all       1000        944      0.931       0.98      0.962      0.718\n",
            "Speed: 0.1ms pre-process, 3.6ms inference, 3.6ms NMS per image at shape (32, 3, 608, 608)\n",
            "Results saved to \u001b[1mruns/val/oracle_val\u001b[0m\n"
          ]
        }
      ]
    },
    {
      "cell_type": "markdown",
      "source": [
        "unsupervised domain adapdation training"
      ],
      "metadata": {
        "id": "qXpVkIFm3E1Q"
      }
    },
    {
      "cell_type": "code",
      "execution_count": 13,
      "metadata": {
        "id": "Af5qi9M4axq7"
      },
      "outputs": [],
      "source": [
        "# !python uda_train.py \\\n",
        "# --name jltv_uda \\\n",
        "# --noval \\\n",
        "# --batch 2 \\\n",
        "# --img 600 \\\n",
        "# --epochs 50 \\\n",
        "# --data data/synthetic_jltv.yaml \\\n",
        "# --weights /content/supervised_train.pt"
      ]
    },
    {
      "cell_type": "code",
      "source": [
        "!gdown 1--7UjhWA3zEq4ZEdq3O3U9zE3ELBDpeE #UDA checkpoint 50 epoch"
      ],
      "metadata": {
        "colab": {
          "base_uri": "https://localhost:8080/"
        },
        "id": "YkwtlzPrOETL",
        "outputId": "8a27d0f5-4681-4e50-fe59-e1d246cdb575"
      },
      "execution_count": 14,
      "outputs": [
        {
          "output_type": "stream",
          "name": "stdout",
          "text": [
            "Downloading...\n",
            "From: https://drive.google.com/uc?id=1--7UjhWA3zEq4ZEdq3O3U9zE3ELBDpeE\n",
            "To: /content/UDA_last.pt\n",
            "100% 14.4M/14.4M [00:00<00:00, 19.4MB/s]\n"
          ]
        }
      ]
    },
    {
      "cell_type": "markdown",
      "source": [
        "evaluating UDA"
      ],
      "metadata": {
        "id": "IT1DjrNaH0d6"
      }
    },
    {
      "cell_type": "code",
      "execution_count": 15,
      "metadata": {
        "colab": {
          "base_uri": "https://localhost:8080/"
        },
        "id": "buHB_VHaeKNW",
        "outputId": "0cdf61f0-075f-456b-823a-836018eae46e"
      },
      "outputs": [
        {
          "output_type": "stream",
          "name": "stdout",
          "text": [
            "\u001b[34m\u001b[1muda_val: \u001b[0mdata=data/synthetic_jltv.yaml, weights=['/content/UDA_last.pt'], batch_size=32, imgsz=600, conf_thres=0.001, iou_thres=0.5, task=test, device=, workers=8, single_cls=False, augment=False, verbose=False, save_txt=False, save_hybrid=False, save_conf=False, save_json=False, project=runs/val, name=jltv_uda, exist_ok=False, half=False, dnn=False\n",
            "YOLOv5 🚀 2024-8-8 Python-3.10.12 torch-2.3.1+cu121 CUDA:0 (Tesla T4, 15102MiB)\n",
            "\n",
            "Fusing layers... \n",
            "Model summary: 213 layers, 7023610 parameters, 0 gradients, 15.8 GFLOPs\n",
            "WARNING: --img-size 600 must be multiple of max stride 32, updating to 608\n",
            "\u001b[34m\u001b[1mtest: \u001b[0mScanning '/content/test/labels.cache' images and labels... 1000 found, 0 missing, 109 empty, 0 corrupt: 100% 1000/1000 [00:00<?, ?it/s]\n",
            "               Class     Images     Labels          P          R     mAP@.5 mAP@.5:.95:   0% 0/32 [00:00<?, ?it/s]WARNING: NMS time limit 1.060s exceeded\n",
            "               Class     Images     Labels          P          R     mAP@.5 mAP@.5:.95: 100% 32/32 [00:29<00:00,  1.09it/s]\n",
            "                 all       1000        932      0.762      0.551      0.611      0.328\n",
            "Speed: 0.4ms pre-process, 4.0ms inference, 4.4ms NMS per image at shape (32, 3, 608, 608)\n",
            "Results saved to \u001b[1mruns/val/jltv_uda\u001b[0m\n"
          ]
        }
      ],
      "source": [
        "!python uda_val.py \\\n",
        " --name jltv_uda \\\n",
        " --img 600 \\\n",
        " --task test \\\n",
        " --data data/synthetic_jltv.yaml \\\n",
        " --weights /content/UDA_last.pt \\\n",
        " --iou-thres 0.5"
      ]
    },
    {
      "cell_type": "code",
      "execution_count": 15,
      "metadata": {
        "id": "7FD-HsQLfC_k"
      },
      "outputs": [],
      "source": []
    }
  ],
  "metadata": {
    "accelerator": "GPU",
    "colab": {
      "gpuType": "T4",
      "provenance": []
    },
    "kernelspec": {
      "display_name": "Python 3",
      "name": "python3"
    },
    "language_info": {
      "name": "python"
    }
  },
  "nbformat": 4,
  "nbformat_minor": 0
}